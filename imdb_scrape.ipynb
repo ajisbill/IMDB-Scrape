{
 "cells": [
  {
   "cell_type": "markdown",
   "id": "8378904e",
   "metadata": {},
   "source": [
    "### Madeline Carter and Alex Isbill"
   ]
  },
  {
   "cell_type": "markdown",
   "id": "024e0ef8",
   "metadata": {},
   "source": [
    "In this notebook, we will be scraping movie data from imdb.com. We will first import necessary classes: `Requests`, `BeautifulSoup4`, and `Pandas`. We will additionally important the `time` module to adhere to good web scraping practices."
   ]
  },
  {
   "cell_type": "code",
   "execution_count": 1,
   "id": "fea95724",
   "metadata": {},
   "outputs": [],
   "source": [
    "import requests\n",
    "import bs4\n",
    "import pandas as pd\n",
    "import time"
   ]
  },
  {
   "cell_type": "markdown",
   "id": "18f0dc8c",
   "metadata": {},
   "source": [
    "The first thing we want to do is create a dictionary whose keys correlate to the column names of the data frame on imdb.com."
   ]
  },
  {
   "cell_type": "code",
   "execution_count": 2,
   "id": "4da51b2b",
   "metadata": {},
   "outputs": [],
   "source": [
    "data = {\n",
    "    \"Titles\" : [],\n",
    "    \"Runtime\" : [],\n",
    "    \"User Rating\" : [],\n",
    "    \"Metascore\" : [],\n",
    "    \"Votes\" : [],\n",
    "    \"Gross\" : [],\n",
    "    \"Genre\" : [] \n",
    "}"
   ]
  },
  {
   "cell_type": "markdown",
   "id": "0ff1a5d8",
   "metadata": {},
   "source": [
    "We want to collect data on the top 1000 movies released between 2000-01-01 and 2020-12-31, and sorted by US Box Office in Descending order. However, the url \"https://www.imdb.com/search/title/?release_date=2000-01-01,2020-12-31&sort=boxoffice_gross_us,desc&start=1\" only displays the first 50 movies. The next 50 movies are shown when we remove '1' and append \"51\" to the url. The following pages of movies follow this example by incrementing the previous appended value by 50. By creating a list *pages* with the appended additions, it enables us to concisely scrape data from all 10 urls.\n",
    "\n",
    "We will traverse the said list. For each iteration of the for loop, we will scrape the data at the *url* and put it into our *data* dictionary.\n",
    "\n",
    "To keep data consistent and allow conversion from strings to floats and ints (part 3), we removed commas, dollar signs, and letters (e.g. \"$1,000,000M\" --> 1000000)."
   ]
  },
  {
   "cell_type": "code",
   "execution_count": 3,
   "id": "dce5e37f",
   "metadata": {},
   "outputs": [],
   "source": [
    "pages = [1, 51, 101, 151, 201, 251, 301, 351, 401, 451, 501, 551, 601, 651, 701, 751, 801, 851, 901, 951]\n",
    "for i in pages:\n",
    "    url = \"https://www.imdb.com/search/title/?release_date=2000-01-01,2020-12-31&sort=boxoffice_gross_us,desc&start=\"+ str(i)\n",
    "    response = requests.get(url)\n",
    "    time.sleep(1)\n",
    "    soup = bs4.BeautifulSoup(response.text, 'html.parser')\n",
    "    mv = soup.find_all('div', class_=\"lister-item-content\")\n",
    "    for movie in mv:\n",
    "        data[\"Titles\"].append(movie.h3.a.text)\n",
    "        data[\"Runtime\"].append(movie.find(class_=\"runtime\").text.rstrip(\" min\"))\n",
    "        data[\"User Rating\"].append(movie.find(class_=\"inline-block ratings-imdb-rating\").text.split()[0])\n",
    "        try:\n",
    "            data[\"Metascore\"].append(movie.find(class_=\"inline-block ratings-metascore\").text.split()[0])\n",
    "        except: \n",
    "            data[\"Metascore\"].append(\"NaN\")\n",
    "        data[\"Votes\"].append(movie.find_all(\"span\", {\"name\":\"nv\"})[0].text.replace(',',''))\n",
    "        data[\"Gross\"].append(movie.find_all(\"span\", {\"name\":\"nv\"})[1].text[1:].rstrip(\"M\"))\n",
    "        data[\"Genre\"].append(movie.find(class_=\"genre\").text.split()[0].rstrip(\",\"))"
   ]
  },
  {
   "cell_type": "markdown",
   "id": "cd011a57",
   "metadata": {},
   "source": [
    "Now we will convert our complete *data* dictionary to a data frame and display it."
   ]
  },
  {
   "cell_type": "code",
   "execution_count": 4,
   "id": "747e3b91",
   "metadata": {},
   "outputs": [
    {
     "data": {
      "text/html": [
       "<div>\n",
       "<style scoped>\n",
       "    .dataframe tbody tr th:only-of-type {\n",
       "        vertical-align: middle;\n",
       "    }\n",
       "\n",
       "    .dataframe tbody tr th {\n",
       "        vertical-align: top;\n",
       "    }\n",
       "\n",
       "    .dataframe thead th {\n",
       "        text-align: right;\n",
       "    }\n",
       "</style>\n",
       "<table border=\"1\" class=\"dataframe\">\n",
       "  <thead>\n",
       "    <tr style=\"text-align: right;\">\n",
       "      <th></th>\n",
       "      <th>Titles</th>\n",
       "      <th>Runtime</th>\n",
       "      <th>User Rating</th>\n",
       "      <th>Metascore</th>\n",
       "      <th>Votes</th>\n",
       "      <th>Gross</th>\n",
       "      <th>Genre</th>\n",
       "    </tr>\n",
       "  </thead>\n",
       "  <tbody>\n",
       "    <tr>\n",
       "      <th>0</th>\n",
       "      <td>Star Wars: Episode VII - The Force Awakens</td>\n",
       "      <td>138</td>\n",
       "      <td>7.8</td>\n",
       "      <td>80</td>\n",
       "      <td>887665</td>\n",
       "      <td>936.66</td>\n",
       "      <td>Action</td>\n",
       "    </tr>\n",
       "    <tr>\n",
       "      <th>1</th>\n",
       "      <td>Avengers: Endgame</td>\n",
       "      <td>181</td>\n",
       "      <td>8.4</td>\n",
       "      <td>78</td>\n",
       "      <td>951205</td>\n",
       "      <td>858.37</td>\n",
       "      <td>Action</td>\n",
       "    </tr>\n",
       "    <tr>\n",
       "      <th>2</th>\n",
       "      <td>Avatar</td>\n",
       "      <td>162</td>\n",
       "      <td>7.8</td>\n",
       "      <td>83</td>\n",
       "      <td>1160171</td>\n",
       "      <td>760.51</td>\n",
       "      <td>Action</td>\n",
       "    </tr>\n",
       "    <tr>\n",
       "      <th>3</th>\n",
       "      <td>Black Panther</td>\n",
       "      <td>134</td>\n",
       "      <td>7.3</td>\n",
       "      <td>88</td>\n",
       "      <td>681500</td>\n",
       "      <td>700.06</td>\n",
       "      <td>Action</td>\n",
       "    </tr>\n",
       "    <tr>\n",
       "      <th>4</th>\n",
       "      <td>Avengers: Infinity War</td>\n",
       "      <td>149</td>\n",
       "      <td>8.4</td>\n",
       "      <td>68</td>\n",
       "      <td>933216</td>\n",
       "      <td>678.82</td>\n",
       "      <td>Action</td>\n",
       "    </tr>\n",
       "    <tr>\n",
       "      <th>...</th>\n",
       "      <td>...</td>\n",
       "      <td>...</td>\n",
       "      <td>...</td>\n",
       "      <td>...</td>\n",
       "      <td>...</td>\n",
       "      <td>...</td>\n",
       "      <td>...</td>\n",
       "    </tr>\n",
       "    <tr>\n",
       "      <th>995</th>\n",
       "      <td>Son of God</td>\n",
       "      <td>138</td>\n",
       "      <td>5.7</td>\n",
       "      <td>37</td>\n",
       "      <td>18731</td>\n",
       "      <td>59.70</td>\n",
       "      <td>Biography</td>\n",
       "    </tr>\n",
       "    <tr>\n",
       "      <th>996</th>\n",
       "      <td>Love Actually</td>\n",
       "      <td>135</td>\n",
       "      <td>7.6</td>\n",
       "      <td>55</td>\n",
       "      <td>448957</td>\n",
       "      <td>59.70</td>\n",
       "      <td>Comedy</td>\n",
       "    </tr>\n",
       "    <tr>\n",
       "      <th>997</th>\n",
       "      <td>Gothika</td>\n",
       "      <td>98</td>\n",
       "      <td>5.8</td>\n",
       "      <td>38</td>\n",
       "      <td>110540</td>\n",
       "      <td>59.69</td>\n",
       "      <td>Horror</td>\n",
       "    </tr>\n",
       "    <tr>\n",
       "      <th>998</th>\n",
       "      <td>My Big Fat Greek Wedding 2</td>\n",
       "      <td>94</td>\n",
       "      <td>6.0</td>\n",
       "      <td>37</td>\n",
       "      <td>29640</td>\n",
       "      <td>59.69</td>\n",
       "      <td>Comedy</td>\n",
       "    </tr>\n",
       "    <tr>\n",
       "      <th>999</th>\n",
       "      <td>The Dictator</td>\n",
       "      <td>83</td>\n",
       "      <td>6.4</td>\n",
       "      <td>58</td>\n",
       "      <td>290614</td>\n",
       "      <td>59.65</td>\n",
       "      <td>Comedy</td>\n",
       "    </tr>\n",
       "  </tbody>\n",
       "</table>\n",
       "<p>1000 rows × 7 columns</p>\n",
       "</div>"
      ],
      "text/plain": [
       "                                         Titles Runtime User Rating Metascore  \\\n",
       "0    Star Wars: Episode VII - The Force Awakens     138         7.8        80   \n",
       "1                             Avengers: Endgame     181         8.4        78   \n",
       "2                                        Avatar     162         7.8        83   \n",
       "3                                 Black Panther     134         7.3        88   \n",
       "4                        Avengers: Infinity War     149         8.4        68   \n",
       "..                                          ...     ...         ...       ...   \n",
       "995                                  Son of God     138         5.7        37   \n",
       "996                               Love Actually     135         7.6        55   \n",
       "997                                     Gothika      98         5.8        38   \n",
       "998                  My Big Fat Greek Wedding 2      94         6.0        37   \n",
       "999                                The Dictator      83         6.4        58   \n",
       "\n",
       "       Votes   Gross      Genre  \n",
       "0     887665  936.66     Action  \n",
       "1     951205  858.37     Action  \n",
       "2    1160171  760.51     Action  \n",
       "3     681500  700.06     Action  \n",
       "4     933216  678.82     Action  \n",
       "..       ...     ...        ...  \n",
       "995    18731   59.70  Biography  \n",
       "996   448957   59.70     Comedy  \n",
       "997   110540   59.69     Horror  \n",
       "998    29640   59.69     Comedy  \n",
       "999   290614   59.65     Comedy  \n",
       "\n",
       "[1000 rows x 7 columns]"
      ]
     },
     "execution_count": 4,
     "metadata": {},
     "output_type": "execute_result"
    }
   ],
   "source": [
    "df = pd.DataFrame(data)\n",
    "df"
   ]
  },
  {
   "cell_type": "markdown",
   "id": "b63a642b",
   "metadata": {},
   "source": [
    "Finally, we will download the collected data as a .csv file to use in part 3 of this lab."
   ]
  },
  {
   "cell_type": "code",
   "execution_count": 5,
   "id": "40f7e0d7",
   "metadata": {},
   "outputs": [],
   "source": [
    "df.to_csv(\"imdb.csv\", index=False)"
   ]
  }
 ],
 "metadata": {
  "kernelspec": {
   "display_name": "Python 3",
   "language": "python",
   "name": "python3"
  },
  "language_info": {
   "codemirror_mode": {
    "name": "ipython",
    "version": 3
   },
   "file_extension": ".py",
   "mimetype": "text/x-python",
   "name": "python",
   "nbconvert_exporter": "python",
   "pygments_lexer": "ipython3",
   "version": "3.6.9"
  }
 },
 "nbformat": 4,
 "nbformat_minor": 5
}
