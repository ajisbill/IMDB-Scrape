{
 "cells": [
  {
   "cell_type": "markdown",
   "id": "861f094d",
   "metadata": {},
   "source": [
    "### Madeline Carter and Alex Isbill"
   ]
  },
  {
   "cell_type": "markdown",
   "id": "0dab4079",
   "metadata": {},
   "source": [
    "In this notebook, we will be scraping movie data from the-numbers.com. We will first import necessary classes: `Requests`, `BeautifulSoup4`, and `Pandas`. We will additionally important the `time` module to adhere to good web scraping practices."
   ]
  },
  {
   "cell_type": "code",
   "execution_count": 11,
   "id": "7d3fe1dc",
   "metadata": {},
   "outputs": [],
   "source": [
    "import requests\n",
    "import bs4\n",
    "import pandas as pd\n",
    "import time"
   ]
  },
  {
   "cell_type": "markdown",
   "id": "7b506042",
   "metadata": {},
   "source": [
    "The first thing we want to do is create a dictionary whose keys correlate to the column names of the data frame on the-numbers.com."
   ]
  },
  {
   "cell_type": "code",
   "execution_count": 12,
   "id": "e2de6d73",
   "metadata": {},
   "outputs": [],
   "source": [
    "data = {\n",
    "    \"Release Date\" : [],\n",
    "    \"Titles\" : [],\n",
    "    \"Budget\" : [],\n",
    "    \"TN Domestic Gross\" : [],\n",
    "    \"Worldwide Gross\" : [] \n",
    "}"
   ]
  },
  {
   "cell_type": "markdown",
   "id": "a7d18b4c",
   "metadata": {},
   "source": [
    "We want to collect data on the top 1000 movies in the the-numbers.com database with the highest budgets. However, the url \"https://www.the-numbers.com/movie/budgets/all\" only displays the top 100 movies. The next 100 movies appends \"/101\" to the url, and the following hundreds of movies follow this example by incrementing the 100th place by 1. By creating a list *pages* with the appended additions, it enables us to concisely scrape data from all 10 urls.\n",
    "\n",
    "We will traverse the said list. For each iteration of the for loop, we will scrape the data at the *url* and put it into our *data* dictionary.\n",
    "\n",
    "To keep data consistent and allow conversion from strings to floats and ints (part 3), we removed commas, dollar signs, and letters (e.g. \"$1,000,000M\")."
   ]
  },
  {
   "cell_type": "code",
   "execution_count": 13,
   "id": "d458d8b3",
   "metadata": {},
   "outputs": [],
   "source": [
    "pages = [\"\", \"/101\", \"/201\", \"/301\", \"/401\", \"/501\", \"/601\", \"/701\", \"/801\", \"/901\"]\n",
    "for i in pages:\n",
    "    url = \"https://www.the-numbers.com/movie/budgets/all\"+ i\n",
    "    response = requests.get(url)\n",
    "    time.sleep(1)\n",
    "    soup = bs4.BeautifulSoup(response.text, 'html.parser')\n",
    "    mv = soup.find('table').find_all(\"tr\")\n",
    "    for movie in mv[1:]:\n",
    "        data[\"Release Date\"].append(movie.find_all('a')[0].text)\n",
    "        data[\"Titles\"].append(movie.find_all('a')[1].text)\n",
    "        data[\"Budget\"].append(movie.find_all(class_='data')[1].text.split()[0][1:].replace(',',''))\n",
    "        data[\"TN Domestic Gross\"].append(movie.find_all(class_='data')[2].text.split()[0][1:].replace(',',''))\n",
    "        data[\"Worldwide Gross\"].append(movie.find_all(class_='data')[3].text.split()[0][1:].replace(',',''))"
   ]
  },
  {
   "cell_type": "markdown",
   "id": "fd301bd9",
   "metadata": {},
   "source": [
    "Now we will convert our complete *data* dictionary to a data frame and display it."
   ]
  },
  {
   "cell_type": "code",
   "execution_count": 14,
   "id": "381ce86a",
   "metadata": {
    "scrolled": true
   },
   "outputs": [
    {
     "data": {
      "text/html": [
       "<div>\n",
       "<style scoped>\n",
       "    .dataframe tbody tr th:only-of-type {\n",
       "        vertical-align: middle;\n",
       "    }\n",
       "\n",
       "    .dataframe tbody tr th {\n",
       "        vertical-align: top;\n",
       "    }\n",
       "\n",
       "    .dataframe thead th {\n",
       "        text-align: right;\n",
       "    }\n",
       "</style>\n",
       "<table border=\"1\" class=\"dataframe\">\n",
       "  <thead>\n",
       "    <tr style=\"text-align: right;\">\n",
       "      <th></th>\n",
       "      <th>Release Date</th>\n",
       "      <th>Titles</th>\n",
       "      <th>Budget</th>\n",
       "      <th>TN Domestic Gross</th>\n",
       "      <th>Worldwide Gross</th>\n",
       "    </tr>\n",
       "  </thead>\n",
       "  <tbody>\n",
       "    <tr>\n",
       "      <th>0</th>\n",
       "      <td>Apr 23, 2019</td>\n",
       "      <td>Avengers: Endgame</td>\n",
       "      <td>400000000</td>\n",
       "      <td>858373000</td>\n",
       "      <td>2797800564</td>\n",
       "    </tr>\n",
       "    <tr>\n",
       "      <th>1</th>\n",
       "      <td>May 20, 2011</td>\n",
       "      <td>Pirates of the Caribbean: On Stranger Tides</td>\n",
       "      <td>379000000</td>\n",
       "      <td>241071802</td>\n",
       "      <td>1045713802</td>\n",
       "    </tr>\n",
       "    <tr>\n",
       "      <th>2</th>\n",
       "      <td>Apr 22, 2015</td>\n",
       "      <td>Avengers: Age of Ultron</td>\n",
       "      <td>365000000</td>\n",
       "      <td>459005868</td>\n",
       "      <td>1395316979</td>\n",
       "    </tr>\n",
       "    <tr>\n",
       "      <th>3</th>\n",
       "      <td>Dec 16, 2015</td>\n",
       "      <td>Star Wars Ep. VII: The Force Awakens</td>\n",
       "      <td>306000000</td>\n",
       "      <td>936662225</td>\n",
       "      <td>2064615817</td>\n",
       "    </tr>\n",
       "    <tr>\n",
       "      <th>4</th>\n",
       "      <td>Apr 25, 2018</td>\n",
       "      <td>Avengers: Infinity War</td>\n",
       "      <td>300000000</td>\n",
       "      <td>678815482</td>\n",
       "      <td>2044540523</td>\n",
       "    </tr>\n",
       "    <tr>\n",
       "      <th>...</th>\n",
       "      <td>...</td>\n",
       "      <td>...</td>\n",
       "      <td>...</td>\n",
       "      <td>...</td>\n",
       "      <td>...</td>\n",
       "    </tr>\n",
       "    <tr>\n",
       "      <th>995</th>\n",
       "      <td>Dec 25, 2008</td>\n",
       "      <td>The Spirit</td>\n",
       "      <td>60000000</td>\n",
       "      <td>19806188</td>\n",
       "      <td>39006188</td>\n",
       "    </tr>\n",
       "    <tr>\n",
       "      <th>996</th>\n",
       "      <td>Oct 19, 2001</td>\n",
       "      <td>The Last Castle</td>\n",
       "      <td>60000000</td>\n",
       "      <td>18208078</td>\n",
       "      <td>20541668</td>\n",
       "    </tr>\n",
       "    <tr>\n",
       "      <th>997</th>\n",
       "      <td>Jan 23, 2009</td>\n",
       "      <td>Inkheart</td>\n",
       "      <td>60000000</td>\n",
       "      <td>17303424</td>\n",
       "      <td>66655938</td>\n",
       "    </tr>\n",
       "    <tr>\n",
       "      <th>998</th>\n",
       "      <td>Feb 18, 2020</td>\n",
       "      <td>Monster Hunter</td>\n",
       "      <td>60000000</td>\n",
       "      <td>15104790</td>\n",
       "      <td>44400541</td>\n",
       "    </tr>\n",
       "    <tr>\n",
       "      <th>999</th>\n",
       "      <td>Jan 14, 2000</td>\n",
       "      <td>Supernova</td>\n",
       "      <td>60000000</td>\n",
       "      <td>14218868</td>\n",
       "      <td>14816494</td>\n",
       "    </tr>\n",
       "  </tbody>\n",
       "</table>\n",
       "<p>1000 rows × 5 columns</p>\n",
       "</div>"
      ],
      "text/plain": [
       "     Release Date                                       Titles     Budget  \\\n",
       "0    Apr 23, 2019                            Avengers: Endgame  400000000   \n",
       "1    May 20, 2011  Pirates of the Caribbean: On Stranger Tides  379000000   \n",
       "2    Apr 22, 2015                      Avengers: Age of Ultron  365000000   \n",
       "3    Dec 16, 2015         Star Wars Ep. VII: The Force Awakens  306000000   \n",
       "4    Apr 25, 2018                       Avengers: Infinity War  300000000   \n",
       "..            ...                                          ...        ...   \n",
       "995  Dec 25, 2008                                   The Spirit   60000000   \n",
       "996  Oct 19, 2001                              The Last Castle   60000000   \n",
       "997  Jan 23, 2009                                     Inkheart   60000000   \n",
       "998  Feb 18, 2020                               Monster Hunter   60000000   \n",
       "999  Jan 14, 2000                                    Supernova   60000000   \n",
       "\n",
       "    TN Domestic Gross Worldwide Gross  \n",
       "0           858373000      2797800564  \n",
       "1           241071802      1045713802  \n",
       "2           459005868      1395316979  \n",
       "3           936662225      2064615817  \n",
       "4           678815482      2044540523  \n",
       "..                ...             ...  \n",
       "995          19806188        39006188  \n",
       "996          18208078        20541668  \n",
       "997          17303424        66655938  \n",
       "998          15104790        44400541  \n",
       "999          14218868        14816494  \n",
       "\n",
       "[1000 rows x 5 columns]"
      ]
     },
     "execution_count": 14,
     "metadata": {},
     "output_type": "execute_result"
    }
   ],
   "source": [
    "df = pd.DataFrame(data)\n",
    "df"
   ]
  },
  {
   "cell_type": "markdown",
   "id": "85b850cf",
   "metadata": {},
   "source": [
    "Finally, we will download the collected data as a .csv file to use in part 3 of this lab."
   ]
  },
  {
   "cell_type": "code",
   "execution_count": 15,
   "id": "bab10155",
   "metadata": {},
   "outputs": [],
   "source": [
    "df.to_csv(\"the_numbers.csv\", index=False)"
   ]
  }
 ],
 "metadata": {
  "kernelspec": {
   "display_name": "Python 3",
   "language": "python",
   "name": "python3"
  },
  "language_info": {
   "codemirror_mode": {
    "name": "ipython",
    "version": 3
   },
   "file_extension": ".py",
   "mimetype": "text/x-python",
   "name": "python",
   "nbconvert_exporter": "python",
   "pygments_lexer": "ipython3",
   "version": "3.6.9"
  }
 },
 "nbformat": 4,
 "nbformat_minor": 5
}
